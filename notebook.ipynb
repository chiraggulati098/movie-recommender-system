{
 "cells": [
  {
   "cell_type": "markdown",
   "id": "83b06d53-9874-4672-ad2c-8bc9a8774743",
   "metadata": {},
   "source": [
    "### Importing needed libraries"
   ]
  },
  {
   "cell_type": "code",
   "execution_count": 1,
   "id": "9aaed3ed-ab18-4b59-a094-07572e13eacd",
   "metadata": {},
   "outputs": [],
   "source": [
    "import numpy as np\n",
    "import pandas as pd\n",
    "import matplotlib.pyplot as plt\n",
    "import seaborn as sns\n",
    "%matplotlib inline\n",
    "import warnings\n",
    "warnings.filterwarnings(\"ignore\")"
   ]
  },
  {
   "cell_type": "markdown",
   "id": "fb134647-4f82-4b52-9a74-57ef69b5c52c",
   "metadata": {},
   "source": [
    "### Reading the dataset"
   ]
  },
  {
   "cell_type": "code",
   "execution_count": 2,
   "id": "54756406-ca58-4d78-b639-a07d5f62846d",
   "metadata": {},
   "outputs": [],
   "source": [
    "ratings = pd.read_csv('./dataset/ratings.csv')\n",
    "movies = pd.read_csv('./dataset/movies.csv')\n",
    "links = pd.read_csv('./dataset/links.csv')"
   ]
  },
  {
   "cell_type": "code",
   "execution_count": 3,
   "id": "2a5cc41c-c8de-4793-b5c1-0c722959567c",
   "metadata": {},
   "outputs": [
    {
     "data": {
      "text/html": [
       "<div>\n",
       "<style scoped>\n",
       "    .dataframe tbody tr th:only-of-type {\n",
       "        vertical-align: middle;\n",
       "    }\n",
       "\n",
       "    .dataframe tbody tr th {\n",
       "        vertical-align: top;\n",
       "    }\n",
       "\n",
       "    .dataframe thead th {\n",
       "        text-align: right;\n",
       "    }\n",
       "</style>\n",
       "<table border=\"1\" class=\"dataframe\">\n",
       "  <thead>\n",
       "    <tr style=\"text-align: right;\">\n",
       "      <th></th>\n",
       "      <th>Unnamed: 0</th>\n",
       "      <th>userId</th>\n",
       "      <th>movieId</th>\n",
       "      <th>rating</th>\n",
       "      <th>timestamp</th>\n",
       "    </tr>\n",
       "  </thead>\n",
       "  <tbody>\n",
       "    <tr>\n",
       "      <th>0</th>\n",
       "      <td>254</td>\n",
       "      <td>3</td>\n",
       "      <td>1</td>\n",
       "      <td>4.0</td>\n",
       "      <td>1439472215</td>\n",
       "    </tr>\n",
       "    <tr>\n",
       "      <th>1</th>\n",
       "      <td>255</td>\n",
       "      <td>3</td>\n",
       "      <td>29</td>\n",
       "      <td>4.5</td>\n",
       "      <td>1484754967</td>\n",
       "    </tr>\n",
       "    <tr>\n",
       "      <th>2</th>\n",
       "      <td>256</td>\n",
       "      <td>3</td>\n",
       "      <td>32</td>\n",
       "      <td>4.5</td>\n",
       "      <td>1439474635</td>\n",
       "    </tr>\n",
       "    <tr>\n",
       "      <th>3</th>\n",
       "      <td>257</td>\n",
       "      <td>3</td>\n",
       "      <td>50</td>\n",
       "      <td>5.0</td>\n",
       "      <td>1439474391</td>\n",
       "    </tr>\n",
       "    <tr>\n",
       "      <th>4</th>\n",
       "      <td>258</td>\n",
       "      <td>3</td>\n",
       "      <td>111</td>\n",
       "      <td>4.0</td>\n",
       "      <td>1484753849</td>\n",
       "    </tr>\n",
       "  </tbody>\n",
       "</table>\n",
       "</div>"
      ],
      "text/plain": [
       "   Unnamed: 0  userId  movieId  rating   timestamp\n",
       "0         254       3        1     4.0  1439472215\n",
       "1         255       3       29     4.5  1484754967\n",
       "2         256       3       32     4.5  1439474635\n",
       "3         257       3       50     5.0  1439474391\n",
       "4         258       3      111     4.0  1484753849"
      ]
     },
     "execution_count": 3,
     "metadata": {},
     "output_type": "execute_result"
    }
   ],
   "source": [
    "ratings.head()"
   ]
  },
  {
   "cell_type": "markdown",
   "id": "e6a3f140-0da5-47c2-9a0a-98d73c17501d",
   "metadata": {},
   "source": [
    "contains ratings of different movies by all users"
   ]
  },
  {
   "cell_type": "code",
   "execution_count": 4,
   "id": "a2ed19cd-677c-4444-8c6b-4f98aaa0e2fa",
   "metadata": {},
   "outputs": [
    {
     "data": {
      "text/html": [
       "<div>\n",
       "<style scoped>\n",
       "    .dataframe tbody tr th:only-of-type {\n",
       "        vertical-align: middle;\n",
       "    }\n",
       "\n",
       "    .dataframe tbody tr th {\n",
       "        vertical-align: top;\n",
       "    }\n",
       "\n",
       "    .dataframe thead th {\n",
       "        text-align: right;\n",
       "    }\n",
       "</style>\n",
       "<table border=\"1\" class=\"dataframe\">\n",
       "  <thead>\n",
       "    <tr style=\"text-align: right;\">\n",
       "      <th></th>\n",
       "      <th>movieId</th>\n",
       "      <th>title</th>\n",
       "      <th>genres</th>\n",
       "    </tr>\n",
       "  </thead>\n",
       "  <tbody>\n",
       "    <tr>\n",
       "      <th>0</th>\n",
       "      <td>1</td>\n",
       "      <td>Toy Story (1995)</td>\n",
       "      <td>Adventure|Animation|Children|Comedy|Fantasy</td>\n",
       "    </tr>\n",
       "    <tr>\n",
       "      <th>1</th>\n",
       "      <td>2</td>\n",
       "      <td>Jumanji (1995)</td>\n",
       "      <td>Adventure|Children|Fantasy</td>\n",
       "    </tr>\n",
       "    <tr>\n",
       "      <th>2</th>\n",
       "      <td>3</td>\n",
       "      <td>Grumpier Old Men (1995)</td>\n",
       "      <td>Comedy|Romance</td>\n",
       "    </tr>\n",
       "    <tr>\n",
       "      <th>3</th>\n",
       "      <td>4</td>\n",
       "      <td>Waiting to Exhale (1995)</td>\n",
       "      <td>Comedy|Drama|Romance</td>\n",
       "    </tr>\n",
       "    <tr>\n",
       "      <th>4</th>\n",
       "      <td>5</td>\n",
       "      <td>Father of the Bride Part II (1995)</td>\n",
       "      <td>Comedy</td>\n",
       "    </tr>\n",
       "  </tbody>\n",
       "</table>\n",
       "</div>"
      ],
      "text/plain": [
       "   movieId                               title  \\\n",
       "0        1                    Toy Story (1995)   \n",
       "1        2                      Jumanji (1995)   \n",
       "2        3             Grumpier Old Men (1995)   \n",
       "3        4            Waiting to Exhale (1995)   \n",
       "4        5  Father of the Bride Part II (1995)   \n",
       "\n",
       "                                        genres  \n",
       "0  Adventure|Animation|Children|Comedy|Fantasy  \n",
       "1                   Adventure|Children|Fantasy  \n",
       "2                               Comedy|Romance  \n",
       "3                         Comedy|Drama|Romance  \n",
       "4                                       Comedy  "
      ]
     },
     "execution_count": 4,
     "metadata": {},
     "output_type": "execute_result"
    }
   ],
   "source": [
    "movies.head()"
   ]
  },
  {
   "cell_type": "markdown",
   "id": "a47f8319-5e03-4b65-90ca-baa05d8ef6a6",
   "metadata": {},
   "source": [
    "contains movie titles and genres "
   ]
  },
  {
   "cell_type": "code",
   "execution_count": 5,
   "id": "bd483004-8632-4d3f-a1fe-355768c6e778",
   "metadata": {},
   "outputs": [
    {
     "data": {
      "text/html": [
       "<div>\n",
       "<style scoped>\n",
       "    .dataframe tbody tr th:only-of-type {\n",
       "        vertical-align: middle;\n",
       "    }\n",
       "\n",
       "    .dataframe tbody tr th {\n",
       "        vertical-align: top;\n",
       "    }\n",
       "\n",
       "    .dataframe thead th {\n",
       "        text-align: right;\n",
       "    }\n",
       "</style>\n",
       "<table border=\"1\" class=\"dataframe\">\n",
       "  <thead>\n",
       "    <tr style=\"text-align: right;\">\n",
       "      <th></th>\n",
       "      <th>movieId</th>\n",
       "      <th>imdbId</th>\n",
       "      <th>tmdbId</th>\n",
       "    </tr>\n",
       "  </thead>\n",
       "  <tbody>\n",
       "    <tr>\n",
       "      <th>0</th>\n",
       "      <td>1</td>\n",
       "      <td>114709</td>\n",
       "      <td>862.0</td>\n",
       "    </tr>\n",
       "    <tr>\n",
       "      <th>1</th>\n",
       "      <td>2</td>\n",
       "      <td>113497</td>\n",
       "      <td>8844.0</td>\n",
       "    </tr>\n",
       "    <tr>\n",
       "      <th>2</th>\n",
       "      <td>3</td>\n",
       "      <td>113228</td>\n",
       "      <td>15602.0</td>\n",
       "    </tr>\n",
       "    <tr>\n",
       "      <th>3</th>\n",
       "      <td>4</td>\n",
       "      <td>114885</td>\n",
       "      <td>31357.0</td>\n",
       "    </tr>\n",
       "    <tr>\n",
       "      <th>4</th>\n",
       "      <td>5</td>\n",
       "      <td>113041</td>\n",
       "      <td>11862.0</td>\n",
       "    </tr>\n",
       "  </tbody>\n",
       "</table>\n",
       "</div>"
      ],
      "text/plain": [
       "   movieId  imdbId   tmdbId\n",
       "0        1  114709    862.0\n",
       "1        2  113497   8844.0\n",
       "2        3  113228  15602.0\n",
       "3        4  114885  31357.0\n",
       "4        5  113041  11862.0"
      ]
     },
     "execution_count": 5,
     "metadata": {},
     "output_type": "execute_result"
    }
   ],
   "source": [
    "links.head()"
   ]
  },
  {
   "cell_type": "markdown",
   "id": "142045ba-a966-42d7-a917-a693c43025a6",
   "metadata": {},
   "source": [
    "contains the imdb and tbdb id of the movies (might be useful at a later stage)"
   ]
  },
  {
   "cell_type": "code",
   "execution_count": 6,
   "id": "905685a2-aa07-4fb3-9cd6-5e3b66a63563",
   "metadata": {},
   "outputs": [],
   "source": [
    "ratings = ratings.merge(movies, on='movieId')"
   ]
  },
  {
   "cell_type": "code",
   "execution_count": 7,
   "id": "7a383c73-5faf-47f1-b1e7-5a4cf1aebf9c",
   "metadata": {},
   "outputs": [],
   "source": [
    "ratings = ratings.merge(links, on='movieId')"
   ]
  },
  {
   "cell_type": "code",
   "execution_count": 8,
   "id": "4695b6f4-473d-43a7-ae4b-78a32070dd32",
   "metadata": {},
   "outputs": [
    {
     "data": {
      "text/html": [
       "<div>\n",
       "<style scoped>\n",
       "    .dataframe tbody tr th:only-of-type {\n",
       "        vertical-align: middle;\n",
       "    }\n",
       "\n",
       "    .dataframe tbody tr th {\n",
       "        vertical-align: top;\n",
       "    }\n",
       "\n",
       "    .dataframe thead th {\n",
       "        text-align: right;\n",
       "    }\n",
       "</style>\n",
       "<table border=\"1\" class=\"dataframe\">\n",
       "  <thead>\n",
       "    <tr style=\"text-align: right;\">\n",
       "      <th></th>\n",
       "      <th>Unnamed: 0</th>\n",
       "      <th>userId</th>\n",
       "      <th>movieId</th>\n",
       "      <th>rating</th>\n",
       "      <th>timestamp</th>\n",
       "      <th>title</th>\n",
       "      <th>genres</th>\n",
       "      <th>imdbId</th>\n",
       "      <th>tmdbId</th>\n",
       "    </tr>\n",
       "  </thead>\n",
       "  <tbody>\n",
       "    <tr>\n",
       "      <th>0</th>\n",
       "      <td>254</td>\n",
       "      <td>3</td>\n",
       "      <td>1</td>\n",
       "      <td>4.0</td>\n",
       "      <td>1439472215</td>\n",
       "      <td>Toy Story (1995)</td>\n",
       "      <td>Adventure|Animation|Children|Comedy|Fantasy</td>\n",
       "      <td>114709</td>\n",
       "      <td>862.0</td>\n",
       "    </tr>\n",
       "    <tr>\n",
       "      <th>1</th>\n",
       "      <td>1714</td>\n",
       "      <td>12</td>\n",
       "      <td>1</td>\n",
       "      <td>4.0</td>\n",
       "      <td>1167582601</td>\n",
       "      <td>Toy Story (1995)</td>\n",
       "      <td>Adventure|Animation|Children|Comedy|Fantasy</td>\n",
       "      <td>114709</td>\n",
       "      <td>862.0</td>\n",
       "    </tr>\n",
       "    <tr>\n",
       "      <th>2</th>\n",
       "      <td>2450</td>\n",
       "      <td>13</td>\n",
       "      <td>1</td>\n",
       "      <td>4.0</td>\n",
       "      <td>1265223970</td>\n",
       "      <td>Toy Story (1995)</td>\n",
       "      <td>Adventure|Animation|Children|Comedy|Fantasy</td>\n",
       "      <td>114709</td>\n",
       "      <td>862.0</td>\n",
       "    </tr>\n",
       "    <tr>\n",
       "      <th>3</th>\n",
       "      <td>5858</td>\n",
       "      <td>43</td>\n",
       "      <td>1</td>\n",
       "      <td>4.0</td>\n",
       "      <td>1170491388</td>\n",
       "      <td>Toy Story (1995)</td>\n",
       "      <td>Adventure|Animation|Children|Comedy|Fantasy</td>\n",
       "      <td>114709</td>\n",
       "      <td>862.0</td>\n",
       "    </tr>\n",
       "    <tr>\n",
       "      <th>4</th>\n",
       "      <td>6921</td>\n",
       "      <td>57</td>\n",
       "      <td>1</td>\n",
       "      <td>4.0</td>\n",
       "      <td>1142403282</td>\n",
       "      <td>Toy Story (1995)</td>\n",
       "      <td>Adventure|Animation|Children|Comedy|Fantasy</td>\n",
       "      <td>114709</td>\n",
       "      <td>862.0</td>\n",
       "    </tr>\n",
       "  </tbody>\n",
       "</table>\n",
       "</div>"
      ],
      "text/plain": [
       "   Unnamed: 0  userId  movieId  rating   timestamp             title  \\\n",
       "0         254       3        1     4.0  1439472215  Toy Story (1995)   \n",
       "1        1714      12        1     4.0  1167582601  Toy Story (1995)   \n",
       "2        2450      13        1     4.0  1265223970  Toy Story (1995)   \n",
       "3        5858      43        1     4.0  1170491388  Toy Story (1995)   \n",
       "4        6921      57        1     4.0  1142403282  Toy Story (1995)   \n",
       "\n",
       "                                        genres  imdbId  tmdbId  \n",
       "0  Adventure|Animation|Children|Comedy|Fantasy  114709   862.0  \n",
       "1  Adventure|Animation|Children|Comedy|Fantasy  114709   862.0  \n",
       "2  Adventure|Animation|Children|Comedy|Fantasy  114709   862.0  \n",
       "3  Adventure|Animation|Children|Comedy|Fantasy  114709   862.0  \n",
       "4  Adventure|Animation|Children|Comedy|Fantasy  114709   862.0  "
      ]
     },
     "execution_count": 8,
     "metadata": {},
     "output_type": "execute_result"
    }
   ],
   "source": [
    "ratings.head()"
   ]
  },
  {
   "cell_type": "code",
   "execution_count": 9,
   "id": "e6464f8c-63b3-4d60-b803-57873806e026",
   "metadata": {},
   "outputs": [],
   "source": [
    "movie_links = movies.merge(links,on='movieId')"
   ]
  },
  {
   "cell_type": "code",
   "execution_count": 10,
   "id": "f8182c6c-78a9-40a4-b08e-998a1ee37d3c",
   "metadata": {},
   "outputs": [
    {
     "data": {
      "text/html": [
       "<div>\n",
       "<style scoped>\n",
       "    .dataframe tbody tr th:only-of-type {\n",
       "        vertical-align: middle;\n",
       "    }\n",
       "\n",
       "    .dataframe tbody tr th {\n",
       "        vertical-align: top;\n",
       "    }\n",
       "\n",
       "    .dataframe thead th {\n",
       "        text-align: right;\n",
       "    }\n",
       "</style>\n",
       "<table border=\"1\" class=\"dataframe\">\n",
       "  <thead>\n",
       "    <tr style=\"text-align: right;\">\n",
       "      <th></th>\n",
       "      <th>movieId</th>\n",
       "      <th>title</th>\n",
       "      <th>genres</th>\n",
       "      <th>imdbId</th>\n",
       "      <th>tmdbId</th>\n",
       "    </tr>\n",
       "  </thead>\n",
       "  <tbody>\n",
       "    <tr>\n",
       "      <th>0</th>\n",
       "      <td>1</td>\n",
       "      <td>Toy Story (1995)</td>\n",
       "      <td>Adventure|Animation|Children|Comedy|Fantasy</td>\n",
       "      <td>114709</td>\n",
       "      <td>862.0</td>\n",
       "    </tr>\n",
       "    <tr>\n",
       "      <th>1</th>\n",
       "      <td>2</td>\n",
       "      <td>Jumanji (1995)</td>\n",
       "      <td>Adventure|Children|Fantasy</td>\n",
       "      <td>113497</td>\n",
       "      <td>8844.0</td>\n",
       "    </tr>\n",
       "    <tr>\n",
       "      <th>2</th>\n",
       "      <td>3</td>\n",
       "      <td>Grumpier Old Men (1995)</td>\n",
       "      <td>Comedy|Romance</td>\n",
       "      <td>113228</td>\n",
       "      <td>15602.0</td>\n",
       "    </tr>\n",
       "    <tr>\n",
       "      <th>3</th>\n",
       "      <td>4</td>\n",
       "      <td>Waiting to Exhale (1995)</td>\n",
       "      <td>Comedy|Drama|Romance</td>\n",
       "      <td>114885</td>\n",
       "      <td>31357.0</td>\n",
       "    </tr>\n",
       "    <tr>\n",
       "      <th>4</th>\n",
       "      <td>5</td>\n",
       "      <td>Father of the Bride Part II (1995)</td>\n",
       "      <td>Comedy</td>\n",
       "      <td>113041</td>\n",
       "      <td>11862.0</td>\n",
       "    </tr>\n",
       "  </tbody>\n",
       "</table>\n",
       "</div>"
      ],
      "text/plain": [
       "   movieId                               title  \\\n",
       "0        1                    Toy Story (1995)   \n",
       "1        2                      Jumanji (1995)   \n",
       "2        3             Grumpier Old Men (1995)   \n",
       "3        4            Waiting to Exhale (1995)   \n",
       "4        5  Father of the Bride Part II (1995)   \n",
       "\n",
       "                                        genres  imdbId   tmdbId  \n",
       "0  Adventure|Animation|Children|Comedy|Fantasy  114709    862.0  \n",
       "1                   Adventure|Children|Fantasy  113497   8844.0  \n",
       "2                               Comedy|Romance  113228  15602.0  \n",
       "3                         Comedy|Drama|Romance  114885  31357.0  \n",
       "4                                       Comedy  113041  11862.0  "
      ]
     },
     "execution_count": 10,
     "metadata": {},
     "output_type": "execute_result"
    }
   ],
   "source": [
    "movie_links.head()"
   ]
  },
  {
   "cell_type": "code",
   "execution_count": 11,
   "id": "e0a9a87f-b886-4e6b-be70-50aedb1e2139",
   "metadata": {},
   "outputs": [],
   "source": [
    "del movies\n",
    "del links"
   ]
  },
  {
   "cell_type": "markdown",
   "id": "64f97622-02a0-4e8b-b76a-03195636663d",
   "metadata": {},
   "source": [
    "### EDA"
   ]
  },
  {
   "cell_type": "code",
   "execution_count": 12,
   "id": "e040a8d9-0fa2-45fc-bc47-5d1aa038f73e",
   "metadata": {},
   "outputs": [
    {
     "data": {
      "text/plain": [
       "title\n",
       "Deconstructing the Beatles' White Album (2016)    5.0\n",
       "New Order (2012)                                  5.0\n",
       "Snow White (1987)                                 5.0\n",
       "Psychophony (2013)                                5.0\n",
       "African Treasure (1952)                           5.0\n",
       "                                                 ... \n",
       "Caro Gorbaciov (1988)                             0.5\n",
       "Water Boyy (2015)                                 0.5\n",
       "Down and Out with the Dolls (2001)                0.5\n",
       "Oblivion 2: Backlash (1996)                       0.5\n",
       "Ducoboo 2: Crazy Vacation (2012)                  0.5\n",
       "Name: rating, Length: 58098, dtype: float64"
      ]
     },
     "execution_count": 12,
     "metadata": {},
     "output_type": "execute_result"
    }
   ],
   "source": [
    "ratings.groupby('title')['rating'].mean().sort_values(ascending=False)"
   ]
  },
  {
   "cell_type": "code",
   "execution_count": 13,
   "id": "22752bf0-0cde-41fe-a8e9-b3b514d9accd",
   "metadata": {},
   "outputs": [
    {
     "data": {
      "text/plain": [
       "title\n",
       "Matrix, The (1999)                           17935\n",
       "Forrest Gump (1994)                          17749\n",
       "Pulp Fiction (1994)                          17225\n",
       "Star Wars: Episode IV - A New Hope (1977)    16929\n",
       "Silence of the Lambs, The (1991)             16697\n",
       "                                             ...  \n",
       "Of Mind and Music (2014)                         1\n",
       "Off the Mark (1987)                              1\n",
       "Off the Minnesota Strip (1980)                   1\n",
       "Offending Women Is Not Recommended (2000)        1\n",
       "줄탁동시 (2012)                                      1\n",
       "Name: rating, Length: 58098, dtype: int64"
      ]
     },
     "execution_count": 13,
     "metadata": {},
     "output_type": "execute_result"
    }
   ],
   "source": [
    "ratings.groupby('title')['rating'].count().sort_values(ascending=False)"
   ]
  },
  {
   "cell_type": "code",
   "execution_count": 14,
   "id": "5a0f727a-54b4-45f8-8b52-b1727d59cdf3",
   "metadata": {},
   "outputs": [],
   "source": [
    "movie_ratings = pd.DataFrame(ratings.groupby('title')['rating'].mean())"
   ]
  },
  {
   "cell_type": "code",
   "execution_count": 15,
   "id": "4821eb1d-6cd2-4e75-a924-3ebd4763c9ff",
   "metadata": {},
   "outputs": [],
   "source": [
    "movie_ratings['num_of_ratings'] = ratings.groupby('title')['rating'].count()"
   ]
  },
  {
   "cell_type": "code",
   "execution_count": 16,
   "id": "1a31390a-f7c3-4f7b-9b7c-113a4dc03dc6",
   "metadata": {},
   "outputs": [
    {
     "data": {
      "text/html": [
       "<div>\n",
       "<style scoped>\n",
       "    .dataframe tbody tr th:only-of-type {\n",
       "        vertical-align: middle;\n",
       "    }\n",
       "\n",
       "    .dataframe tbody tr th {\n",
       "        vertical-align: top;\n",
       "    }\n",
       "\n",
       "    .dataframe thead th {\n",
       "        text-align: right;\n",
       "    }\n",
       "</style>\n",
       "<table border=\"1\" class=\"dataframe\">\n",
       "  <thead>\n",
       "    <tr style=\"text-align: right;\">\n",
       "      <th></th>\n",
       "      <th>rating</th>\n",
       "      <th>num_of_ratings</th>\n",
       "    </tr>\n",
       "    <tr>\n",
       "      <th>title</th>\n",
       "      <th></th>\n",
       "      <th></th>\n",
       "    </tr>\n",
       "  </thead>\n",
       "  <tbody>\n",
       "    <tr>\n",
       "      <th>\"BLOW THE NIGHT!\" Let's Spend the Night Together (1983)</th>\n",
       "      <td>3.000000</td>\n",
       "      <td>1</td>\n",
       "    </tr>\n",
       "    <tr>\n",
       "      <th>\"Great Performances\" Cats (1998)</th>\n",
       "      <td>3.038462</td>\n",
       "      <td>65</td>\n",
       "    </tr>\n",
       "    <tr>\n",
       "      <th>#1 Cheerleader Camp (2010)</th>\n",
       "      <td>1.714286</td>\n",
       "      <td>7</td>\n",
       "    </tr>\n",
       "    <tr>\n",
       "      <th>#Captured (2017)</th>\n",
       "      <td>3.750000</td>\n",
       "      <td>2</td>\n",
       "    </tr>\n",
       "    <tr>\n",
       "      <th>#Female Pleasure (2018)</th>\n",
       "      <td>3.750000</td>\n",
       "      <td>2</td>\n",
       "    </tr>\n",
       "  </tbody>\n",
       "</table>\n",
       "</div>"
      ],
      "text/plain": [
       "                                                      rating  num_of_ratings\n",
       "title                                                                       \n",
       "\"BLOW THE NIGHT!\" Let's Spend the Night Togethe...  3.000000               1\n",
       "\"Great Performances\" Cats (1998)                    3.038462              65\n",
       "#1 Cheerleader Camp (2010)                          1.714286               7\n",
       "#Captured (2017)                                    3.750000               2\n",
       "#Female Pleasure (2018)                             3.750000               2"
      ]
     },
     "execution_count": 16,
     "metadata": {},
     "output_type": "execute_result"
    }
   ],
   "source": [
    "movie_ratings.head()"
   ]
  },
  {
   "cell_type": "code",
   "execution_count": 17,
   "id": "2cef9a5f-fc47-4ae3-b7c7-58ea1a92494c",
   "metadata": {},
   "outputs": [
    {
     "data": {
      "text/plain": [
       "<Axes: >"
      ]
     },
     "execution_count": 17,
     "metadata": {},
     "output_type": "execute_result"
    },
    {
     "data": {
      "image/png": "[encoded data removed]",
      "text/plain": [
       "<Figure size 640x480 with 1 Axes>"
      ]
     },
     "metadata": {},
     "output_type": "display_data"
    }
   ],
   "source": [
    "movie_ratings['num_of_ratings'].hist(bins=70)"
   ]
  },
  {
   "cell_type": "code",
   "execution_count": 18,
   "id": "d296a65a-2888-449f-92f0-2b0804135d2c",
   "metadata": {},
   "outputs": [
    {
     "data": {
      "text/plain": [
       "<seaborn.axisgrid.JointGrid at 0x2784d69d850>"
      ]
     },
     "execution_count": 18,
     "metadata": {},
     "output_type": "execute_result"
    },
    {
     "data": {
      "image/png": "[encoded data removed]",
      "text/plain": [
       "<Figure size 600x600 with 3 Axes>"
      ]
     },
     "metadata": {},
     "output_type": "display_data"
    }
   ],
   "source": [
    "sns.jointplot(data=movie_ratings,x='rating',y='num_of_ratings')"
   ]
  },
  {
   "cell_type": "code",
   "execution_count": 19,
   "id": "ebbd4064-5afe-43dc-8a15-02e14e79d712",
   "metadata": {},
   "outputs": [
    {
     "name": "stdout",
     "output_type": "stream",
     "text": [
      "mean of num_of_ratings - 224.39102895108266\n",
      "median of num_of_ratings - 5.0\n"
     ]
    }
   ],
   "source": [
    "print(f'''mean of num_of_ratings - {movie_ratings['num_of_ratings'].mean()}\n",
    "median of num_of_ratings - {movie_ratings['num_of_ratings'].median()}''')"
   ]
  },
  {
   "cell_type": "code",
   "execution_count": 20,
   "id": "ec6c8430-8e3a-44f2-9e16-2d533e7f21aa",
   "metadata": {},
   "outputs": [
    {
     "name": "stdout",
     "output_type": "stream",
     "text": [
      "560\n"
     ]
    }
   ],
   "source": [
    "print(ratings.duplicated(subset=['userId', 'title']).sum())  "
   ]
  },
  {
   "cell_type": "code",
   "execution_count": 21,
   "id": "0dcf53e4-7aac-4e6a-9c28-5afb9c1c2e45",
   "metadata": {},
   "outputs": [],
   "source": [
    "ratings = ratings.drop_duplicates(subset=['userId', 'title'])"
   ]
  },
  {
   "cell_type": "markdown",
   "id": "cb53ef97-27fd-4fea-ab67-b0eefd3dcfe1",
   "metadata": {},
   "source": [
    "removed duplicate entries"
   ]
  },
  {
   "cell_type": "markdown",
   "id": "493d7a58-c7cb-42a9-bc69-3996fd94291b",
   "metadata": {},
   "source": [
    "### Building the Recommender System"
   ]
  },
  {
   "cell_type": "markdown",
   "id": "370250ce-b149-4ab1-903e-f5a618380df8",
   "metadata": {},
   "source": [
    "#### Or load the matrix below to save time "
   ]
  },
  {
   "cell_type": "code",
   "execution_count": 22,
   "id": "fb7bb374-1849-4609-ae57-b92f22b91fbe",
   "metadata": {},
   "outputs": [],
   "source": [
    "ratings['userId'] = ratings['userId'].astype('int32')\n",
    "ratings['rating'] = ratings['rating'].astype('float32')"
   ]
  },
  {
   "cell_type": "markdown",
   "id": "7a5ad38c-2cbe-4493-96d0-f6fe7b4cdc49",
   "metadata": {},
   "source": [
    "downgraded datatypes to help manage memory better"
   ]
  },
  {
   "cell_type": "code",
   "execution_count": 23,
   "id": "dc2ce65d-ae61-44b5-a3c0-7503f3985173",
   "metadata": {},
   "outputs": [],
   "source": [
    "ratings_matrix = ratings.pivot_table(index='userId',columns='title',values='rating')"
   ]
  },
  {
   "cell_type": "code",
   "execution_count": 24,
   "id": "aaf71fb2-21cc-4126-893e-d27a64ed6822",
   "metadata": {},
   "outputs": [
    {
     "data": {
      "text/html": [
       "<div>\n",
       "<style scoped>\n",
       "    .dataframe tbody tr th:only-of-type {\n",
       "        vertical-align: middle;\n",
       "    }\n",
       "\n",
       "    .dataframe tbody tr th {\n",
       "        vertical-align: top;\n",
       "    }\n",
       "\n",
       "    .dataframe thead th {\n",
       "        text-align: right;\n",
       "    }\n",
       "</style>\n",
       "<table border=\"1\" class=\"dataframe\">\n",
       "  <thead>\n",
       "    <tr style=\"text-align: right;\">\n",
       "      <th>title</th>\n",
       "      <th>\"BLOW THE NIGHT!\" Let's Spend the Night Together (1983)</th>\n",
       "      <th>\"Great Performances\" Cats (1998)</th>\n",
       "      <th>#1 Cheerleader Camp (2010)</th>\n",
       "      <th>#Captured (2017)</th>\n",
       "      <th>#Female Pleasure (2018)</th>\n",
       "      <th>#FollowMe (2019)</th>\n",
       "      <th>#Horror (2015)</th>\n",
       "      <th>#Lucky Number (2015)</th>\n",
       "      <th>#SCREAMERS (2016)</th>\n",
       "      <th>#SquadGoals (2018)</th>\n",
       "      <th>...</th>\n",
       "      <th>ארבינקא (1967)</th>\n",
       "      <th>أهواك (2015)</th>\n",
       "      <th>به نام پدر</th>\n",
       "      <th>काशी - In Search of Ganga (2018)</th>\n",
       "      <th>‘Rameau’s Nephew’ by Diderot (Thanx to Dennis Young) by Wilma Schoen (1974)</th>\n",
       "      <th>…And the Fifth Horseman Is Fear (1965)</th>\n",
       "      <th>キサラギ (2007)</th>\n",
       "      <th>チェブラーシカ (2010)</th>\n",
       "      <th>貞子3D (2012)</th>\n",
       "      <th>줄탁동시 (2012)</th>\n",
       "    </tr>\n",
       "    <tr>\n",
       "      <th>userId</th>\n",
       "      <th></th>\n",
       "      <th></th>\n",
       "      <th></th>\n",
       "      <th></th>\n",
       "      <th></th>\n",
       "      <th></th>\n",
       "      <th></th>\n",
       "      <th></th>\n",
       "      <th></th>\n",
       "      <th></th>\n",
       "      <th></th>\n",
       "      <th></th>\n",
       "      <th></th>\n",
       "      <th></th>\n",
       "      <th></th>\n",
       "      <th></th>\n",
       "      <th></th>\n",
       "      <th></th>\n",
       "      <th></th>\n",
       "      <th></th>\n",
       "      <th></th>\n",
       "    </tr>\n",
       "  </thead>\n",
       "  <tbody>\n",
       "    <tr>\n",
       "      <th>3</th>\n",
       "      <td>NaN</td>\n",
       "      <td>NaN</td>\n",
       "      <td>NaN</td>\n",
       "      <td>NaN</td>\n",
       "      <td>NaN</td>\n",
       "      <td>NaN</td>\n",
       "      <td>NaN</td>\n",
       "      <td>NaN</td>\n",
       "      <td>NaN</td>\n",
       "      <td>NaN</td>\n",
       "      <td>...</td>\n",
       "      <td>NaN</td>\n",
       "      <td>NaN</td>\n",
       "      <td>NaN</td>\n",
       "      <td>NaN</td>\n",
       "      <td>NaN</td>\n",
       "      <td>NaN</td>\n",
       "      <td>NaN</td>\n",
       "      <td>NaN</td>\n",
       "      <td>NaN</td>\n",
       "      <td>NaN</td>\n",
       "    </tr>\n",
       "    <tr>\n",
       "      <th>12</th>\n",
       "      <td>NaN</td>\n",
       "      <td>NaN</td>\n",
       "      <td>NaN</td>\n",
       "      <td>NaN</td>\n",
       "      <td>NaN</td>\n",
       "      <td>NaN</td>\n",
       "      <td>NaN</td>\n",
       "      <td>NaN</td>\n",
       "      <td>NaN</td>\n",
       "      <td>NaN</td>\n",
       "      <td>...</td>\n",
       "      <td>NaN</td>\n",
       "      <td>NaN</td>\n",
       "      <td>NaN</td>\n",
       "      <td>NaN</td>\n",
       "      <td>NaN</td>\n",
       "      <td>NaN</td>\n",
       "      <td>NaN</td>\n",
       "      <td>NaN</td>\n",
       "      <td>NaN</td>\n",
       "      <td>NaN</td>\n",
       "    </tr>\n",
       "    <tr>\n",
       "      <th>13</th>\n",
       "      <td>NaN</td>\n",
       "      <td>NaN</td>\n",
       "      <td>NaN</td>\n",
       "      <td>NaN</td>\n",
       "      <td>NaN</td>\n",
       "      <td>NaN</td>\n",
       "      <td>NaN</td>\n",
       "      <td>NaN</td>\n",
       "      <td>NaN</td>\n",
       "      <td>NaN</td>\n",
       "      <td>...</td>\n",
       "      <td>NaN</td>\n",
       "      <td>NaN</td>\n",
       "      <td>NaN</td>\n",
       "      <td>NaN</td>\n",
       "      <td>NaN</td>\n",
       "      <td>NaN</td>\n",
       "      <td>NaN</td>\n",
       "      <td>NaN</td>\n",
       "      <td>NaN</td>\n",
       "      <td>NaN</td>\n",
       "    </tr>\n",
       "    <tr>\n",
       "      <th>19</th>\n",
       "      <td>NaN</td>\n",
       "      <td>NaN</td>\n",
       "      <td>NaN</td>\n",
       "      <td>NaN</td>\n",
       "      <td>NaN</td>\n",
       "      <td>NaN</td>\n",
       "      <td>NaN</td>\n",
       "      <td>NaN</td>\n",
       "      <td>NaN</td>\n",
       "      <td>NaN</td>\n",
       "      <td>...</td>\n",
       "      <td>NaN</td>\n",
       "      <td>NaN</td>\n",
       "      <td>NaN</td>\n",
       "      <td>NaN</td>\n",
       "      <td>NaN</td>\n",
       "      <td>NaN</td>\n",
       "      <td>NaN</td>\n",
       "      <td>NaN</td>\n",
       "      <td>NaN</td>\n",
       "      <td>NaN</td>\n",
       "    </tr>\n",
       "    <tr>\n",
       "      <th>23</th>\n",
       "      <td>NaN</td>\n",
       "      <td>NaN</td>\n",
       "      <td>NaN</td>\n",
       "      <td>NaN</td>\n",
       "      <td>NaN</td>\n",
       "      <td>NaN</td>\n",
       "      <td>NaN</td>\n",
       "      <td>NaN</td>\n",
       "      <td>NaN</td>\n",
       "      <td>NaN</td>\n",
       "      <td>...</td>\n",
       "      <td>NaN</td>\n",
       "      <td>NaN</td>\n",
       "      <td>NaN</td>\n",
       "      <td>NaN</td>\n",
       "      <td>NaN</td>\n",
       "      <td>NaN</td>\n",
       "      <td>NaN</td>\n",
       "      <td>NaN</td>\n",
       "      <td>NaN</td>\n",
       "      <td>NaN</td>\n",
       "    </tr>\n",
       "    <tr>\n",
       "      <th>...</th>\n",
       "      <td>...</td>\n",
       "      <td>...</td>\n",
       "      <td>...</td>\n",
       "      <td>...</td>\n",
       "      <td>...</td>\n",
       "      <td>...</td>\n",
       "      <td>...</td>\n",
       "      <td>...</td>\n",
       "      <td>...</td>\n",
       "      <td>...</td>\n",
       "      <td>...</td>\n",
       "      <td>...</td>\n",
       "      <td>...</td>\n",
       "      <td>...</td>\n",
       "      <td>...</td>\n",
       "      <td>...</td>\n",
       "      <td>...</td>\n",
       "      <td>...</td>\n",
       "      <td>...</td>\n",
       "      <td>...</td>\n",
       "      <td>...</td>\n",
       "    </tr>\n",
       "    <tr>\n",
       "      <th>162519</th>\n",
       "      <td>NaN</td>\n",
       "      <td>NaN</td>\n",
       "      <td>NaN</td>\n",
       "      <td>NaN</td>\n",
       "      <td>NaN</td>\n",
       "      <td>NaN</td>\n",
       "      <td>NaN</td>\n",
       "      <td>NaN</td>\n",
       "      <td>NaN</td>\n",
       "      <td>NaN</td>\n",
       "      <td>...</td>\n",
       "      <td>NaN</td>\n",
       "      <td>NaN</td>\n",
       "      <td>NaN</td>\n",
       "      <td>NaN</td>\n",
       "      <td>NaN</td>\n",
       "      <td>NaN</td>\n",
       "      <td>NaN</td>\n",
       "      <td>NaN</td>\n",
       "      <td>NaN</td>\n",
       "      <td>NaN</td>\n",
       "    </tr>\n",
       "    <tr>\n",
       "      <th>162521</th>\n",
       "      <td>NaN</td>\n",
       "      <td>NaN</td>\n",
       "      <td>NaN</td>\n",
       "      <td>NaN</td>\n",
       "      <td>NaN</td>\n",
       "      <td>NaN</td>\n",
       "      <td>NaN</td>\n",
       "      <td>NaN</td>\n",
       "      <td>NaN</td>\n",
       "      <td>NaN</td>\n",
       "      <td>...</td>\n",
       "      <td>NaN</td>\n",
       "      <td>NaN</td>\n",
       "      <td>NaN</td>\n",
       "      <td>NaN</td>\n",
       "      <td>NaN</td>\n",
       "      <td>NaN</td>\n",
       "      <td>NaN</td>\n",
       "      <td>NaN</td>\n",
       "      <td>NaN</td>\n",
       "      <td>NaN</td>\n",
       "    </tr>\n",
       "    <tr>\n",
       "      <th>162529</th>\n",
       "      <td>NaN</td>\n",
       "      <td>NaN</td>\n",
       "      <td>NaN</td>\n",
       "      <td>NaN</td>\n",
       "      <td>NaN</td>\n",
       "      <td>NaN</td>\n",
       "      <td>NaN</td>\n",
       "      <td>NaN</td>\n",
       "      <td>NaN</td>\n",
       "      <td>NaN</td>\n",
       "      <td>...</td>\n",
       "      <td>NaN</td>\n",
       "      <td>NaN</td>\n",
       "      <td>NaN</td>\n",
       "      <td>NaN</td>\n",
       "      <td>NaN</td>\n",
       "      <td>NaN</td>\n",
       "      <td>NaN</td>\n",
       "      <td>NaN</td>\n",
       "      <td>NaN</td>\n",
       "      <td>NaN</td>\n",
       "    </tr>\n",
       "    <tr>\n",
       "      <th>162533</th>\n",
       "      <td>NaN</td>\n",
       "      <td>NaN</td>\n",
       "      <td>NaN</td>\n",
       "      <td>NaN</td>\n",
       "      <td>NaN</td>\n",
       "      <td>NaN</td>\n",
       "      <td>NaN</td>\n",
       "      <td>NaN</td>\n",
       "      <td>NaN</td>\n",
       "      <td>NaN</td>\n",
       "      <td>...</td>\n",
       "      <td>NaN</td>\n",
       "      <td>NaN</td>\n",
       "      <td>NaN</td>\n",
       "      <td>NaN</td>\n",
       "      <td>NaN</td>\n",
       "      <td>NaN</td>\n",
       "      <td>NaN</td>\n",
       "      <td>NaN</td>\n",
       "      <td>NaN</td>\n",
       "      <td>NaN</td>\n",
       "    </tr>\n",
       "    <tr>\n",
       "      <th>162534</th>\n",
       "      <td>NaN</td>\n",
       "      <td>NaN</td>\n",
       "      <td>NaN</td>\n",
       "      <td>NaN</td>\n",
       "      <td>NaN</td>\n",
       "      <td>NaN</td>\n",
       "      <td>NaN</td>\n",
       "      <td>NaN</td>\n",
       "      <td>NaN</td>\n",
       "      <td>NaN</td>\n",
       "      <td>...</td>\n",
       "      <td>NaN</td>\n",
       "      <td>NaN</td>\n",
       "      <td>NaN</td>\n",
       "      <td>NaN</td>\n",
       "      <td>NaN</td>\n",
       "      <td>NaN</td>\n",
       "      <td>NaN</td>\n",
       "      <td>NaN</td>\n",
       "      <td>NaN</td>\n",
       "      <td>NaN</td>\n",
       "    </tr>\n",
       "  </tbody>\n",
       "</table>\n",
       "<p>20409 rows × 58098 columns</p>\n",
       "</div>"
      ],
      "text/plain": [
       "title   \"BLOW THE NIGHT!\" Let's Spend the Night Together (1983)  \\\n",
       "userId                                                            \n",
       "3                                                     NaN         \n",
       "12                                                    NaN         \n",
       "13                                                    NaN         \n",
       "19                                                    NaN         \n",
       "23                                                    NaN         \n",
       "...                                                   ...         \n",
       "162519                                                NaN         \n",
       "162521                                                NaN         \n",
       "162529                                                NaN         \n",
       "162533                                                NaN         \n",
       "162534                                                NaN         \n",
       "\n",
       "title   \"Great Performances\" Cats (1998)  #1 Cheerleader Camp (2010)  \\\n",
       "userId                                                                 \n",
       "3                                    NaN                         NaN   \n",
       "12                                   NaN                         NaN   \n",
       "13                                   NaN                         NaN   \n",
       "19                                   NaN                         NaN   \n",
       "23                                   NaN                         NaN   \n",
       "...                                  ...                         ...   \n",
       "162519                               NaN                         NaN   \n",
       "162521                               NaN                         NaN   \n",
       "162529                               NaN                         NaN   \n",
       "162533                               NaN                         NaN   \n",
       "162534                               NaN                         NaN   \n",
       "\n",
       "title   #Captured (2017)  #Female Pleasure (2018)  #FollowMe (2019)  \\\n",
       "userId                                                                \n",
       "3                    NaN                      NaN               NaN   \n",
       "12                   NaN                      NaN               NaN   \n",
       "13                   NaN                      NaN               NaN   \n",
       "19                   NaN                      NaN               NaN   \n",
       "23                   NaN                      NaN               NaN   \n",
       "...                  ...                      ...               ...   \n",
       "162519               NaN                      NaN               NaN   \n",
       "162521               NaN                      NaN               NaN   \n",
       "162529               NaN                      NaN               NaN   \n",
       "162533               NaN                      NaN               NaN   \n",
       "162534               NaN                      NaN               NaN   \n",
       "\n",
       "title   #Horror (2015)  #Lucky Number (2015)  #SCREAMERS (2016)  \\\n",
       "userId                                                            \n",
       "3                  NaN                   NaN                NaN   \n",
       "12                 NaN                   NaN                NaN   \n",
       "13                 NaN                   NaN                NaN   \n",
       "19                 NaN                   NaN                NaN   \n",
       "23                 NaN                   NaN                NaN   \n",
       "...                ...                   ...                ...   \n",
       "162519             NaN                   NaN                NaN   \n",
       "162521             NaN                   NaN                NaN   \n",
       "162529             NaN                   NaN                NaN   \n",
       "162533             NaN                   NaN                NaN   \n",
       "162534             NaN                   NaN                NaN   \n",
       "\n",
       "title   #SquadGoals (2018)  ...  ארבינקא (1967)  أهواك (2015)  به نام پدر  \\\n",
       "userId                      ...                                             \n",
       "3                      NaN  ...             NaN           NaN         NaN   \n",
       "12                     NaN  ...             NaN           NaN         NaN   \n",
       "13                     NaN  ...             NaN           NaN         NaN   \n",
       "19                     NaN  ...             NaN           NaN         NaN   \n",
       "23                     NaN  ...             NaN           NaN         NaN   \n",
       "...                    ...  ...             ...           ...         ...   \n",
       "162519                 NaN  ...             NaN           NaN         NaN   \n",
       "162521                 NaN  ...             NaN           NaN         NaN   \n",
       "162529                 NaN  ...             NaN           NaN         NaN   \n",
       "162533                 NaN  ...             NaN           NaN         NaN   \n",
       "162534                 NaN  ...             NaN           NaN         NaN   \n",
       "\n",
       "title   काशी - In Search of Ganga (2018)  \\\n",
       "userId                                     \n",
       "3                                    NaN   \n",
       "12                                   NaN   \n",
       "13                                   NaN   \n",
       "19                                   NaN   \n",
       "23                                   NaN   \n",
       "...                                  ...   \n",
       "162519                               NaN   \n",
       "162521                               NaN   \n",
       "162529                               NaN   \n",
       "162533                               NaN   \n",
       "162534                               NaN   \n",
       "\n",
       "title   ‘Rameau’s Nephew’ by Diderot (Thanx to Dennis Young) by Wilma Schoen (1974)  \\\n",
       "userId                                                                                \n",
       "3                                                     NaN                             \n",
       "12                                                    NaN                             \n",
       "13                                                    NaN                             \n",
       "19                                                    NaN                             \n",
       "23                                                    NaN                             \n",
       "...                                                   ...                             \n",
       "162519                                                NaN                             \n",
       "162521                                                NaN                             \n",
       "162529                                                NaN                             \n",
       "162533                                                NaN                             \n",
       "162534                                                NaN                             \n",
       "\n",
       "title   …And the Fifth Horseman Is Fear (1965)  キサラギ (2007)  チェブラーシカ (2010)  \\\n",
       "userId                                                                        \n",
       "3                                          NaN          NaN             NaN   \n",
       "12                                         NaN          NaN             NaN   \n",
       "13                                         NaN          NaN             NaN   \n",
       "19                                         NaN          NaN             NaN   \n",
       "23                                         NaN          NaN             NaN   \n",
       "...                                        ...          ...             ...   \n",
       "162519                                     NaN          NaN             NaN   \n",
       "162521                                     NaN          NaN             NaN   \n",
       "162529                                     NaN          NaN             NaN   \n",
       "162533                                     NaN          NaN             NaN   \n",
       "162534                                     NaN          NaN             NaN   \n",
       "\n",
       "title   貞子3D (2012)  줄탁동시 (2012)  \n",
       "userId                            \n",
       "3               NaN          NaN  \n",
       "12              NaN          NaN  \n",
       "13              NaN          NaN  \n",
       "19              NaN          NaN  \n",
       "23              NaN          NaN  \n",
       "...             ...          ...  \n",
       "162519          NaN          NaN  \n",
       "162521          NaN          NaN  \n",
       "162529          NaN          NaN  \n",
       "162533          NaN          NaN  \n",
       "162534          NaN          NaN  \n",
       "\n",
       "[20409 rows x 58098 columns]"
      ]
     },
     "execution_count": 24,
     "metadata": {},
     "output_type": "execute_result"
    }
   ],
   "source": [
    "ratings_matrix"
   ]
  },
  {
   "cell_type": "markdown",
   "id": "63e17478-4a33-4d79-80fa-1714d294c651",
   "metadata": {},
   "source": [
    "created a 2-D matrix of user ratings for all movies"
   ]
  },
  {
   "cell_type": "markdown",
   "id": "09107a90-ca4c-4513-b71a-0b1db8a66c60",
   "metadata": {},
   "source": [
    "#### Saving the matrix"
   ]
  },
  {
   "cell_type": "code",
   "execution_count": null,
   "id": "a6efc2a7-fbe5-4bbf-80ae-147ee0807614",
   "metadata": {},
   "outputs": [],
   "source": [
    "'''\n",
    "This is to close any open tables\n",
    "USE this when you encounter error that \"the h5 is already open\" while running the cell below\n",
    "'''\n",
    "import tables\n",
    "tables.file._open_files.close_all()"
   ]
  },
  {
   "cell_type": "code",
   "execution_count": 26,
   "id": "ada55ee8-cf85-4731-943d-d0f92d1e9854",
   "metadata": {},
   "outputs": [],
   "source": [
    "num_parts = 3\n",
    "chunk_size = len(ratings_matrix) // num_parts\n",
    "\n",
    "for part_num in range(num_parts):\n",
    "    start_idx = part_num * chunk_size\n",
    "    end_idx = start_idx + chunk_size if part_num < num_parts - 1 else None\n",
    "    part_df = ratings_matrix.iloc[start_idx:end_idx]\n",
    "    part_df.to_hdf(f'./dataset/ratings_matrix_{part_num + 1}.h5', key='data', mode='w')"
   ]
  },
  {
   "cell_type": "markdown",
   "id": "5f17ee8a-05c8-4d88-b9f2-74062694ee2b",
   "metadata": {},
   "source": [
    "#### Loading the matrix"
   ]
  },
  {
   "cell_type": "code",
   "execution_count": 34,
   "id": "b63f2b6b-792b-4253-98e5-a2384ae344fd",
   "metadata": {},
   "outputs": [],
   "source": [
    "dfs = []\n",
    "for part_num in range(3):  \n",
    "    file_path = f'./dataset/ratings_matrix_{part_num + 1}.h5'\n",
    "    part_df = pd.read_hdf(file_path, key='data')\n",
    "    dfs.append(part_df)\n",
    "\n",
    "ratings_matrix = pd.concat(dfs)"
   ]
  },
  {
   "cell_type": "markdown",
   "id": "eec680b2-7970-427e-98a8-410447a4923a",
   "metadata": {},
   "source": [
    "### Recommending Movies"
   ]
  },
  {
   "cell_type": "code",
   "execution_count": 36,
   "id": "05484fe1-a77d-4d5a-9c20-da3a97dbde88",
   "metadata": {},
   "outputs": [],
   "source": [
    "def recommend(movie):\n",
    "    movie_user_ratings = ratings_matrix[movie] \n",
    "    similar_to_movie = ratings_matrix.corrwith(movie_user_ratings)\n",
    "    corr_movie = pd.DataFrame(similar_to_movie,columns=['correlation'])\n",
    "    corr_movie.dropna(inplace=True)\n",
    "    corr_movie = corr_movie.join(movie_ratings['num_of_ratings'])\n",
    "    corr_movie = corr_movie[corr_movie['num_of_ratings']>350].sort_values('correlation',ascending=False)\n",
    "    recommended_movie_list = []\n",
    "    if movie in list(corr_movie[0:5].index):\n",
    "        i=1\n",
    "    for x in list(corr_movie[i+0:i+5].index):\n",
    "        recommended_movie_list.append(x)\n",
    "    print(f'If you liked the movie {movie}, You will also like: ')\n",
    "    for i in recommended_movie_list:\n",
    "        print(i)"
   ]
  },
  {
   "cell_type": "code",
   "execution_count": 37,
   "id": "7d66f962-13d3-4db1-8af2-eaab031b1832",
   "metadata": {},
   "outputs": [
    {
     "name": "stdout",
     "output_type": "stream",
     "text": [
      "If you liked the movie Iron Man (2008), You will also like: \n",
      "Iron Man 2 (2010)\n",
      "Avengers, The (2012)\n",
      "Iron Man 3 (2013)\n",
      "Avengers: Age of Ultron (2015)\n",
      "Captain America: The Winter Soldier (2014)\n"
     ]
    }
   ],
   "source": [
    "recommend('Iron Man (2008)')"
   ]
  },
  {
   "cell_type": "code",
   "execution_count": 38,
   "id": "b2e40fcd-0f9b-490a-b6d9-e129b439ee0d",
   "metadata": {},
   "outputs": [
    {
     "name": "stdout",
     "output_type": "stream",
     "text": [
      "If you liked the movie Harry Potter and the Prisoner of Azkaban (2004), You will also like: \n",
      "Harry Potter and the Goblet of Fire (2005)\n",
      "Harry Potter and the Order of the Phoenix (2007)\n",
      "Harry Potter and the Deathly Hallows: Part 2 (2011)\n",
      "Harry Potter and the Half-Blood Prince (2009)\n",
      "Harry Potter and the Chamber of Secrets (2002)\n"
     ]
    }
   ],
   "source": [
    "recommend('Harry Potter and the Prisoner of Azkaban (2004)')"
   ]
  },
  {
   "cell_type": "code",
   "execution_count": 39,
   "id": "5648f40c-b819-47aa-b96d-ead0217b5f7b",
   "metadata": {},
   "outputs": [
    {
     "name": "stdout",
     "output_type": "stream",
     "text": [
      "If you liked the movie Toy Story (1995), You will also like: \n",
      "Toy Story 2 (1999)\n",
      "Toy Story 3 (2010)\n",
      "Bug's Life, A (1998)\n",
      "Monsters, Inc. (2001)\n",
      "Finding Nemo (2003)\n"
     ]
    }
   ],
   "source": [
    "recommend('Toy Story (1995)')"
   ]
  },
  {
   "cell_type": "code",
   "execution_count": 40,
   "id": "9d7d89ce-f7cd-4c17-b0b8-04734583d68d",
   "metadata": {},
   "outputs": [
    {
     "name": "stdout",
     "output_type": "stream",
     "text": [
      "If you liked the movie Godfather, The (1972), You will also like: \n",
      "Godfather: Part II, The (1974)\n",
      "Goodfellas (1990)\n",
      "Safety Last! (1923)\n",
      "Raging Bull (1980)\n",
      "Taxi Driver (1976)\n"
     ]
    }
   ],
   "source": [
    "recommend('Godfather, The (1972)')"
   ]
  },
  {
   "cell_type": "code",
   "execution_count": 41,
   "id": "6881f5a9-d764-4eba-ac0b-a52581e78486",
   "metadata": {},
   "outputs": [
    {
     "name": "stdout",
     "output_type": "stream",
     "text": [
      "If you liked the movie Predator (1987), You will also like: \n",
      "Commando (1985)\n",
      "Predator 2 (1990)\n",
      "Conan the Barbarian (1982)\n",
      "Terminator, The (1984)\n",
      "Terminator 2: Judgment Day (1991)\n"
     ]
    }
   ],
   "source": [
    "recommend('Predator (1987)')"
   ]
  },
  {
   "cell_type": "code",
   "execution_count": null,
   "id": "cdc92d72-2de9-4570-9854-0054bf320bab",
   "metadata": {},
   "outputs": [],
   "source": []
  }
 ],
 "metadata": {
  "kernelspec": {
   "display_name": "Python 3 (ipykernel)",
   "language": "python",
   "name": "python3"
  },
  "language_info": {
   "codemirror_mode": {
    "name": "ipython",
    "version": 3
   },
   "file_extension": ".py",
   "mimetype": "text/x-python",
   "name": "python",
   "nbconvert_exporter": "python",
   "pygments_lexer": "ipython3",
   "version": "3.11.5"
  }
 },
 "nbformat": 4,
 "nbformat_minor": 5
}
